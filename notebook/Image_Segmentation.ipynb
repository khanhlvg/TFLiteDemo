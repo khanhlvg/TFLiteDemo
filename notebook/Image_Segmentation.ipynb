{
  "nbformat": 4,
  "nbformat_minor": 0,
  "metadata": {
    "colab": {
      "name": "DeepLabv3.ipynb",
      "version": "0.3.2",
      "provenance": [],
      "collapsed_sections": []
    },
    "kernelspec": {
      "name": "python3",
      "display_name": "Python 3"
    }
  },
  "cells": [
    {
      "cell_type": "code",
      "metadata": {
        "id": "fKjUdXE1BccZ",
        "colab_type": "code",
        "colab": {}
      },
      "source": [
        "# !pip -q uninstall -y tensorflow\n",
        "# !pip -q install tf-nightly\n",
        "\n",
        "# Download \n",
        "!wget https://thehill.com/sites/default/files/styles/thumb_small_article/public/blogs/obama2_0.jpg\n",
        "!wget https://i.cbc.ca/1.5044573.1551844227!/fileImage/httpImage/image.jpg_gen/derivatives/16x9_780/obama.jpg"
      ],
      "execution_count": 0,
      "outputs": []
    },
    {
      "cell_type": "code",
      "metadata": {
        "id": "G45VMEsUBj4Z",
        "colab_type": "code",
        "colab": {}
      },
      "source": [
        "import numpy as np\n",
        "import matplotlib.pyplot as plt\n",
        "import PIL.Image as Image\n",
        "%matplotlib inline\n",
        "\n",
        "import tensorflow as tf\n",
        "from datetime import datetime\n",
        "\n",
        "LABEL_NAMES = [\n",
        "    'background', 'aeroplane', 'bicycle', 'bird', 'boat', 'bottle', 'bus',\n",
        "    'car', 'cat', 'chair', 'cow', 'diningtable', 'dog', 'horse', 'motorbike',\n",
        "    'person', 'pottedplant', 'sheep', 'sofa', 'train', 'tv'\n",
        "]\n",
        "\n",
        "label_index = LABEL_NAMES.index('person')"
      ],
      "execution_count": 0,
      "outputs": []
    },
    {
      "cell_type": "markdown",
      "metadata": {
        "id": "0xSTEMOPTK6g",
        "colab_type": "text"
      },
      "source": [
        "# Model conversion\n",
        "## Convert from Deeplabv3's pre-trained model"
      ]
    },
    {
      "cell_type": "code",
      "metadata": {
        "id": "I85dIR6jQURY",
        "colab_type": "code",
        "colab": {}
      },
      "source": [
        "!wget http://download.tensorflow.org/models/deeplabv3_mnv2_pascal_train_aug_2018_01_29.tar.gz\n",
        "!tar -xvzf deeplabv3_mnv2_pascal_train_aug_2018_01_29.tar.gz"
      ],
      "execution_count": 0,
      "outputs": []
    },
    {
      "cell_type": "code",
      "metadata": {
        "id": "_afOBbgDUOOn",
        "colab_type": "code",
        "colab": {}
      },
      "source": [
        "frozen_model_file = 'deeplabv3_mnv2_pascal_train_aug/frozen_inference_graph.pb'\n",
        "tflite_file = 'deeplabv3_mnv2_pascal_train_aug/deeplabv3_mnv2_pascal_train_aug.tflite'\n",
        "\n",
        "converter = tf.lite.TFLiteConverter.from_frozen_graph(graph_def_file=frozen_model_file,\n",
        "                                  input_arrays=[\"sub_7\"],\n",
        "                                  output_arrays=[\"ArgMax\"],\n",
        "                                  # input_shapes={\"sub_7\": [1, 513, 513, 3]}\n",
        "                                  )\n",
        "# converter.inference_input_type = tf.int8\n",
        "# converter.default_ranges_stats\n",
        "\n",
        "tflite_model = converter.convert()\n",
        "f = open(tflite_file, \"wb\")\n",
        "f.write(tflite_model)\n",
        "f.close()\n"
      ],
      "execution_count": 0,
      "outputs": []
    },
    {
      "cell_type": "code",
      "metadata": {
        "id": "rsUUcFDwU4BY",
        "colab_type": "code",
        "colab": {}
      },
      "source": [
        "# Download the TF Lite model\n",
        "from google.colab import files\n",
        "files.download(tflite_file)"
      ],
      "execution_count": 0,
      "outputs": []
    },
    {
      "cell_type": "markdown",
      "metadata": {
        "id": "LtNb8I_6YijU",
        "colab_type": "text"
      },
      "source": [
        "## Inference using converted TF Lite Deeplabv3 model"
      ]
    },
    {
      "cell_type": "code",
      "metadata": {
        "id": "_LtBJugGYgzD",
        "colab_type": "code",
        "colab": {}
      },
      "source": [
        "image_file = 'obama2_0.jpg'\n",
        "\n",
        "input_image_size = 513\n",
        "\n",
        "input_image = np.array(Image.open(image_file).resize([input_image_size, input_image_size]), dtype=np.float32)\n",
        "# input_image = np.expand_dims((input_image - 127.5) / 127.5, 0)\n",
        "input_image = np.expand_dims(input_image / 255.0, 0)\n",
        "# input_image = np.expand_dims(input_image, 0)\n",
        "\n",
        "interpreter = tf.lite.Interpreter(model_path=tflite_file)\n",
        "interpreter.allocate_tensors()\n",
        "\n",
        "print(interpreter.get_input_details()[0])\n",
        "interpreter.set_tensor(interpreter.get_input_details()[0][\"index\"], input_image)\n",
        "start_time = datetime.now()\n",
        "interpreter.invoke()\n",
        "finish_time = datetime.now()\n",
        "print('Latency = %d ms' % ((finish_time - start_time).total_seconds() * 1000))\n",
        "result = interpreter.tensor(interpreter.get_output_details()[0][\"index\"])()\n",
        "\n",
        "print(np.max(result[0]))\n",
        "\n",
        "plt.figure(figsize=(20,10))\n",
        "# plt.imshow(input_image_original)\n",
        "# plt.imshow(resized_result, alpha=0.5)\n",
        "# plt.imshow(input_image_original.resize([input_image_size, input_image_size]))\n",
        "# plt.imshow(result, alpha=0.5)\n",
        "# plt.imshow(resized_result, interpolation='nearest')\n",
        "plt.imshow(input_image[0])\n",
        "plt.imshow(result[0] / np.max(result[0]), alpha=0.5)\n",
        "\n",
        "plt.show()\n"
      ],
      "execution_count": 0,
      "outputs": []
    },
    {
      "cell_type": "markdown",
      "metadata": {
        "id": "8aqbbcaHYam0",
        "colab_type": "text"
      },
      "source": [
        "# TF Lite's published image segmentation model"
      ]
    },
    {
      "cell_type": "code",
      "metadata": {
        "id": "bn7fz2TYbXTh",
        "colab_type": "code",
        "colab": {}
      },
      "source": [
        "!wget https://storage.googleapis.com/download.tensorflow.org/models/tflite/gpu/deeplabv3_257_mv_gpu.tflite"
      ],
      "execution_count": 0,
      "outputs": []
    },
    {
      "cell_type": "code",
      "metadata": {
        "colab_type": "code",
        "id": "Kf9nxdkcUtOb",
        "colab": {}
      },
      "source": [
        "from google.colab import files\n",
        "files.upload()"
      ],
      "execution_count": 0,
      "outputs": []
    },
    {
      "cell_type": "code",
      "metadata": {
        "id": "TRtVLfUzCl-Y",
        "colab_type": "code",
        "colab": {}
      },
      "source": [
        "model_file = 'deeplabv3_257_mv_gpu.tflite'\n",
        "# model_file = 'deeplabv3.tflite'\n",
        "# model_file = 'deeplabv3_small.tflite'\n",
        "\n",
        "# image_file = 'obama2_0.jpg'\n",
        "image_file = 'obama.jpg'\n",
        "\n",
        "# Load TF Lite model\n",
        "interpreter = tf.lite.Interpreter(model_path=model_file)\n",
        "input_image_size = interpreter.get_input_details()[0][\"shape\"][1]\n",
        "\n",
        "# Pre-process input image\n",
        "input_image_original = Image.open(image_file)\n",
        "input_image = np.array(input_image_original.resize([input_image_size, input_image_size]), dtype=np.float32)\n",
        "input_image = np.expand_dims((input_image / 128.0) - 1.0, 0)\n",
        "# input_image = np.expand_dims(input_image / 255.0, 0)\n",
        "# input_image = np.expand_dims(input_image, 0)\n",
        "\n",
        "# Run inference\n",
        "interpreter.allocate_tensors()\n",
        "interpreter.set_tensor(interpreter.get_input_details()[0][\"index\"], input_image)\n",
        "start_time = datetime.now()\n",
        "interpreter.invoke()\n",
        "finish_time = datetime.now()\n",
        "print('Latency = %d ms' % ((finish_time - start_time).total_seconds() * 1000))\n",
        "logits = interpreter.tensor(interpreter.get_output_details()[0][\"index\"])()\n",
        "\n",
        "# Raw segmentation output from model, same size with TF Lite model output\n",
        "result = np.argmax(logits[0], axis=2).astype(np.int8)\n",
        "\n",
        "# Resize segmentation output to original image\n",
        "im = Image.fromarray(result)\n",
        "resized_result = im.resize(input_image_original.size, resample=Image.NEAREST)\n",
        "print(np.shape(resized_result))\n",
        "\n",
        "# Show result\n",
        "f = plt.figure(figsize=(20,10))\n",
        "f.add_subplot(1, 2, 1)\n",
        "plt.imshow(input_image_original)\n",
        "plt.imshow(resized_result, alpha=0.5)\n",
        "f.add_subplot(1, 2, 2)\n",
        "plt.imshow(input_image_original.resize([input_image_size, input_image_size]))\n",
        "plt.imshow(result, alpha=0.5)\n",
        "# plt.imshow(resized_result, interpolation='nearest')\n",
        "plt.show()\n",
        "\n"
      ],
      "execution_count": 0,
      "outputs": []
    },
    {
      "cell_type": "code",
      "metadata": {
        "id": "jbX1xZhFjY7x",
        "colab_type": "code",
        "colab": {}
      },
      "source": [
        ""
      ],
      "execution_count": 0,
      "outputs": []
    }
  ]
}